{
 "cells": [
  {
   "cell_type": "markdown",
   "metadata": {},
   "source": [
    "<h1>This purpose of this notebook is to generate Recipe Names using an GRU RNN. </h1>"
   ]
  },
  {
   "cell_type": "markdown",
   "metadata": {},
   "source": [
    "<h2>Importing Necessary Libraries</h2>"
   ]
  },
  {
   "cell_type": "code",
   "execution_count": 79,
   "metadata": {},
   "outputs": [],
   "source": [
    "# Import standard libraries\n",
    "import time             # Provides time-related functions\n",
    "import string           # Contains string constants and utilities\n",
    "import unicodedata      # Unicode character database\n",
    "import random \n",
    "\n",
    "# Import scientific computing libraries\n",
    "import numpy as np      # Provides support for arrays and mathematical functions\n",
    "import pandas as pd     # Provides data structures and data analysis tools\n",
    "\n",
    "# Import PyTorch libraries\n",
    "import torch                            # PyTorch library for tensor computation and deep learning\n",
    "import torch.nn as nn                   # Neural network module of PyTorch\n",
    "import torch.nn.functional as F         # Functional interface of PyTorch neural network module\n",
    "from torch.nn.utils.rnn import pad_sequence     # Function for padding sequences\n",
    "from torch.utils.data import DataLoader, TensorDataset, random_split  # Utilities for data loading and manipulation\n",
    "\n",
    "# Import machine learning libraries\n",
    "from sklearn.model_selection import train_test_split  # Function for splitting data into training and test sets\n",
    "from nltk.translate.bleu_score import sentence_bleu, SmoothingFunction   # Functions for computing BLEU score\n",
    "\n",
    "# Import visualization libraries\n",
    "import matplotlib.pyplot as plt  # Provides a MATLAB-like plotting framework\n",
    "\n",
    "device = torch.device(\"cuda\" if torch.cuda.is_available() else \"cpu\")  # Check if GPU is available"
   ]
  },
  {
   "cell_type": "markdown",
   "metadata": {},
   "source": [
    "<h2>Import Food Ingredients Dataset</h2>"
   ]
  },
  {
   "cell_type": "code",
   "execution_count": 80,
   "metadata": {},
   "outputs": [
    {
     "data": {
      "text/html": [
       "<div>\n",
       "<style scoped>\n",
       "    .dataframe tbody tr th:only-of-type {\n",
       "        vertical-align: middle;\n",
       "    }\n",
       "\n",
       "    .dataframe tbody tr th {\n",
       "        vertical-align: top;\n",
       "    }\n",
       "\n",
       "    .dataframe thead th {\n",
       "        text-align: right;\n",
       "    }\n",
       "</style>\n",
       "<table border=\"1\" class=\"dataframe\">\n",
       "  <thead>\n",
       "    <tr style=\"text-align: right;\">\n",
       "      <th></th>\n",
       "      <th>Unnamed: 0</th>\n",
       "      <th>Title</th>\n",
       "      <th>Ingredients</th>\n",
       "      <th>Instructions</th>\n",
       "      <th>Image_Name</th>\n",
       "      <th>Cleaned_Ingredients</th>\n",
       "    </tr>\n",
       "  </thead>\n",
       "  <tbody>\n",
       "    <tr>\n",
       "      <th>0</th>\n",
       "      <td>0</td>\n",
       "      <td>Miso-Butter Roast Chicken With Acorn Squash Pa...</td>\n",
       "      <td>['1 (3½–4-lb.) whole chicken', '2¾ tsp. kosher...</td>\n",
       "      <td>Pat chicken dry with paper towels, season all ...</td>\n",
       "      <td>miso-butter-roast-chicken-acorn-squash-panzanella</td>\n",
       "      <td>['1 (3½–4-lb.) whole chicken', '2¾ tsp. kosher...</td>\n",
       "    </tr>\n",
       "    <tr>\n",
       "      <th>1</th>\n",
       "      <td>1</td>\n",
       "      <td>Crispy Salt and Pepper Potatoes</td>\n",
       "      <td>['2 large egg whites', '1 pound new potatoes (...</td>\n",
       "      <td>Preheat oven to 400°F and line a rimmed baking...</td>\n",
       "      <td>crispy-salt-and-pepper-potatoes-dan-kluger</td>\n",
       "      <td>['2 large egg whites', '1 pound new potatoes (...</td>\n",
       "    </tr>\n",
       "    <tr>\n",
       "      <th>2</th>\n",
       "      <td>2</td>\n",
       "      <td>Thanksgiving Mac and Cheese</td>\n",
       "      <td>['1 cup evaporated milk', '1 cup whole milk', ...</td>\n",
       "      <td>Place a rack in middle of oven; preheat to 400...</td>\n",
       "      <td>thanksgiving-mac-and-cheese-erick-williams</td>\n",
       "      <td>['1 cup evaporated milk', '1 cup whole milk', ...</td>\n",
       "    </tr>\n",
       "    <tr>\n",
       "      <th>3</th>\n",
       "      <td>3</td>\n",
       "      <td>Italian Sausage and Bread Stuffing</td>\n",
       "      <td>['1 (¾- to 1-pound) round Italian loaf, cut in...</td>\n",
       "      <td>Preheat oven to 350°F with rack in middle. Gen...</td>\n",
       "      <td>italian-sausage-and-bread-stuffing-240559</td>\n",
       "      <td>['1 (¾- to 1-pound) round Italian loaf, cut in...</td>\n",
       "    </tr>\n",
       "    <tr>\n",
       "      <th>4</th>\n",
       "      <td>4</td>\n",
       "      <td>Newton's Law</td>\n",
       "      <td>['1 teaspoon dark brown sugar', '1 teaspoon ho...</td>\n",
       "      <td>Stir together brown sugar and hot water in a c...</td>\n",
       "      <td>newtons-law-apple-bourbon-cocktail</td>\n",
       "      <td>['1 teaspoon dark brown sugar', '1 teaspoon ho...</td>\n",
       "    </tr>\n",
       "  </tbody>\n",
       "</table>\n",
       "</div>"
      ],
      "text/plain": [
       "   Unnamed: 0                                              Title  \\\n",
       "0           0  Miso-Butter Roast Chicken With Acorn Squash Pa...   \n",
       "1           1                    Crispy Salt and Pepper Potatoes   \n",
       "2           2                        Thanksgiving Mac and Cheese   \n",
       "3           3                 Italian Sausage and Bread Stuffing   \n",
       "4           4                                       Newton's Law   \n",
       "\n",
       "                                         Ingredients  \\\n",
       "0  ['1 (3½–4-lb.) whole chicken', '2¾ tsp. kosher...   \n",
       "1  ['2 large egg whites', '1 pound new potatoes (...   \n",
       "2  ['1 cup evaporated milk', '1 cup whole milk', ...   \n",
       "3  ['1 (¾- to 1-pound) round Italian loaf, cut in...   \n",
       "4  ['1 teaspoon dark brown sugar', '1 teaspoon ho...   \n",
       "\n",
       "                                        Instructions  \\\n",
       "0  Pat chicken dry with paper towels, season all ...   \n",
       "1  Preheat oven to 400°F and line a rimmed baking...   \n",
       "2  Place a rack in middle of oven; preheat to 400...   \n",
       "3  Preheat oven to 350°F with rack in middle. Gen...   \n",
       "4  Stir together brown sugar and hot water in a c...   \n",
       "\n",
       "                                          Image_Name  \\\n",
       "0  miso-butter-roast-chicken-acorn-squash-panzanella   \n",
       "1         crispy-salt-and-pepper-potatoes-dan-kluger   \n",
       "2         thanksgiving-mac-and-cheese-erick-williams   \n",
       "3          italian-sausage-and-bread-stuffing-240559   \n",
       "4                 newtons-law-apple-bourbon-cocktail   \n",
       "\n",
       "                                 Cleaned_Ingredients  \n",
       "0  ['1 (3½–4-lb.) whole chicken', '2¾ tsp. kosher...  \n",
       "1  ['2 large egg whites', '1 pound new potatoes (...  \n",
       "2  ['1 cup evaporated milk', '1 cup whole milk', ...  \n",
       "3  ['1 (¾- to 1-pound) round Italian loaf, cut in...  \n",
       "4  ['1 teaspoon dark brown sugar', '1 teaspoon ho...  "
      ]
     },
     "execution_count": 80,
     "metadata": {},
     "output_type": "execute_result"
    }
   ],
   "source": [
    "# Specify the relative file path to the CSV dataset\n",
    "file_path = '../../Intro-to-DL/datasets/recipes/Food Ingredients and Recipe Dataset with Image Name Mapping.csv'\n",
    "\n",
    "# Use pandas' read_csv function to load the CSV file into a DataFrame\n",
    "df = pd.read_csv(file_path)\n",
    "\n",
    "# Display the first 5 rows of the DataFrame using the head() function\n",
    "df.head()"
   ]
  },
  {
   "cell_type": "markdown",
   "metadata": {},
   "source": [
    "<h2>Dataset Preprocessing</h2>"
   ]
  },
  {
   "cell_type": "markdown",
   "metadata": {},
   "source": [
    "<h3>Feature Extraction</h3>"
   ]
  },
  {
   "cell_type": "code",
   "execution_count": 81,
   "metadata": {},
   "outputs": [
    {
     "name": "stdout",
     "output_type": "stream",
     "text": [
      "0    Miso-Butter Roast Chicken With Acorn Squash Pa...\n",
      "1                      Crispy Salt and Pepper Potatoes\n",
      "2                          Thanksgiving Mac and Cheese\n",
      "3                   Italian Sausage and Bread Stuffing\n",
      "4                                         Newton's Law\n",
      "Name: Title, dtype: object \n",
      "\n"
     ]
    }
   ],
   "source": [
    "# Extract the 'Title' column from the DataFrame 'df' and assign it to the variable 'titles'\n",
    "titles = df['Title']\n",
    "\n",
    "# Print the first 5 rows of 'titles'\n",
    "print(titles.head(), '\\n')"
   ]
  },
  {
   "cell_type": "markdown",
   "metadata": {},
   "source": [
    "<h3> Remove unusable data and Create vocab of unique characters</h3>"
   ]
  },
  {
   "cell_type": "code",
   "execution_count": 82,
   "metadata": {},
   "outputs": [
    {
     "name": "stdout",
     "output_type": "stream",
     "text": [
      "Unique characters in the dataset: 136\n",
      "['\\n', ' ', '!', '\"', '#', '%', '&', \"'\", '(', ')', '+', ',', '-', '.', '/', '0', '1', '2', '3', '4', '5', '6', '7', '9', ':', ';', 'A', 'B', 'C', 'D', 'E', 'F', 'G', 'H', 'I', 'J', 'K', 'L', 'M', 'N', 'O', 'P', 'Q', 'R', 'S', 'T', 'U', 'V', 'W', 'X', 'Y', 'Z', 'a', 'b', 'c', 'd', 'e', 'f', 'g', 'h', 'i', 'j', 'k', 'l', 'm', 'n', 'o', 'p', 'q', 'r', 's', 't', 'u', 'v', 'w', 'x', 'y', 'z', '\\x92', '\\x96', '\\xa0', '®', 'Á', 'É', 'à', 'á', 'â', 'ã', 'ä', 'ç', 'è', 'é', 'ê', 'ë', 'ì', 'í', 'î', 'ï', 'ñ', 'ò', 'ó', 'ô', 'ö', 'ø', 'ù', 'ú', 'û', 'ü', 'ō', 'ơ', '̀', '́', '̃', '̉', 'С', 'и', 'к', 'н', 'р', 'ы', '\\u2009', '–', '—', '‘', '’', '“', '”', '강', '개', '닭', '된', '장', '전', '정', '찌', '파'] \n",
      "\n",
      "Miso-Butter Roast Chicken With Acorn Squash Panzanella\n",
      "Crispy Salt and Pepper Potatoes\n",
      "Thanksgiving Mac and Cheese\n",
      "Italian Sausage and Bread Stuffing\n",
      "Newton's Law\n"
     ]
    }
   ],
   "source": [
    "# Remove any rows in 'titles' that contain missing values\n",
    "titles = titles.dropna()\n",
    "\n",
    "# Remove any duplicate rows in 'titles'\n",
    "titles = titles.drop_duplicates()\n",
    "\n",
    "# Initialize an empty set to store the unique characters in the titles\n",
    "chars = set()\n",
    "\n",
    "# Enumerate all the characters in the dataset\n",
    "for title in titles:\n",
    "    for char in title:\n",
    "        # Add each character to the 'chars' set. Since sets only contain unique elements, any duplicate characters will be ignored.\n",
    "        chars.add(char)\n",
    "\n",
    "# Sort the characters in alphabetical order\n",
    "chars = sorted(chars)\n",
    "\n",
    "# Print the number of unique characters in the dataset\n",
    "print('Unique characters in the dataset:', len(chars))\n",
    "\n",
    "# Print the sorted list of unique characters\n",
    "print(chars, '\\n')\n",
    "\n",
    "# Define a function to filter out unexpected characters from the titles\n",
    "def filter_unexpected_chars(data):\n",
    "    # Define the set of expected characters as all ASCII letters, digits, spaces, and some punctuation marks\n",
    "    expected_chars = set(string.ascii_letters + string.digits + ' ' + '!\"#%&\\'(),-.:?')\n",
    "    \n",
    "    # Initialize an empty list to store the filtered titles\n",
    "    filtered_data = []\n",
    "    \n",
    "    for title in data:\n",
    "        # For each title, remove any characters that are not in the set of expected characters and are not control or separator characters\n",
    "        filtered_title = ''.join(char for char in title if unicodedata.category(char)[0] not in ['C', 'Z'] or char in expected_chars)\n",
    "        \n",
    "        # Add the filtered title to the list of filtered titles\n",
    "        filtered_data.append(filtered_title)\n",
    "    \n",
    "    # Return the list of filtered titles\n",
    "    return filtered_data\n",
    "\n",
    "# Apply the filter function to the titles\n",
    "filtered_titles = filter_unexpected_chars(titles)\n",
    "\n",
    "# Print the first 5 filtered titles\n",
    "for title in filtered_titles[:5]:\n",
    "    print(title)"
   ]
  },
  {
   "cell_type": "markdown",
   "metadata": {},
   "source": [
    "<h3>Tokenize Input Features</h3>"
   ]
  },
  {
   "cell_type": "code",
   "execution_count": 83,
   "metadata": {},
   "outputs": [
    {
     "name": "stdout",
     "output_type": "stream",
     "text": [
      "['M', 'i', 's', 'o', '-', 'B', 'u', 't', 't', 'e', 'r', ' ', 'R', 'o', 'a', 's', 't', ' ', 'C', 'h', 'i', 'c', 'k', 'e', 'n', ' ', 'W', 'i', 't', 'h', ' ', 'A', 'c', 'o', 'r', 'n', ' ', 'S', 'q', 'u', 'a', 's', 'h', ' ', 'P', 'a', 'n', 'z', 'a', 'n', 'e', 'l', 'l', 'a']\n",
      "['C', 'r', 'i', 's', 'p', 'y', ' ', 'S', 'a', 'l', 't', ' ', 'a', 'n', 'd', ' ', 'P', 'e', 'p', 'p', 'e', 'r', ' ', 'P', 'o', 't', 'a', 't', 'o', 'e', 's']\n",
      "['T', 'h', 'a', 'n', 'k', 's', 'g', 'i', 'v', 'i', 'n', 'g', ' ', 'M', 'a', 'c', ' ', 'a', 'n', 'd', ' ', 'C', 'h', 'e', 'e', 's', 'e']\n",
      "['I', 't', 'a', 'l', 'i', 'a', 'n', ' ', 'S', 'a', 'u', 's', 'a', 'g', 'e', ' ', 'a', 'n', 'd', ' ', 'B', 'r', 'e', 'a', 'd', ' ', 'S', 't', 'u', 'f', 'f', 'i', 'n', 'g']\n",
      "['N', 'e', 'w', 't', 'o', 'n', \"'\", 's', ' ', 'L', 'a', 'w']\n"
     ]
    }
   ],
   "source": [
    "# Convert each title in 'filtered_titles' into a list of individual characters\n",
    "titles_split = [list(title) for title in filtered_titles]\n",
    "\n",
    "# Print the first 5 titles in 'titles_split'. Each title is a list of characters.\n",
    "for title in titles_split[:5]:\n",
    "    print(title)"
   ]
  },
  {
   "cell_type": "code",
   "execution_count": 84,
   "metadata": {},
   "outputs": [
    {
     "name": "stdout",
     "output_type": "stream",
     "text": [
      "Vocabulary:\n",
      "['<PAD>', '<SOS>', '<EOS>', '<UNK>', '\\n', ' ', '!', '\"', '#', '%', '&', \"'\", '(', ')', '+', ',', '-', '.', '/', '0', '1', '2', '3', '4', '5', '6', '7', '9', ':', ';', 'A', 'B', 'C', 'D', 'E', 'F', 'G', 'H', 'I', 'J', 'K', 'L', 'M', 'N', 'O', 'P', 'Q', 'R', 'S', 'T', 'U', 'V', 'W', 'X', 'Y', 'Z', 'a', 'b', 'c', 'd', 'e', 'f', 'g', 'h', 'i', 'j', 'k', 'l', 'm', 'n', 'o', 'p', 'q', 'r', 's', 't', 'u', 'v', 'w', 'x', 'y', 'z', '\\x92', '\\x96', '\\xa0', '®', 'Á', 'É', 'à', 'á', 'â', 'ã', 'ä', 'ç', 'è', 'é', 'ê', 'ë', 'ì', 'í', 'î', 'ï', 'ñ', 'ò', 'ó', 'ô', 'ö', 'ø', 'ù', 'ú', 'û', 'ü', 'ō', 'ơ', '̀', '́', '̃', '̉', 'С', 'и', 'к', 'н', 'р', 'ы', '\\u2009', '–', '—', '‘', '’', '“', '”', '강', '개', '닭', '된', '장', '전', '정', '찌', '파'] \n",
      "\n",
      "Titles split with special tokens: \n",
      "['<SOS>', 'M', 'i', 's', 'o', '-', 'B', 'u', 't', 't', 'e', 'r', ' ', 'R', 'o', 'a', 's', 't', ' ', 'C', 'h', 'i', 'c', 'k', 'e', 'n', ' ', 'W', 'i', 't', 'h', ' ', 'A', 'c', 'o', 'r', 'n', ' ', 'S', 'q', 'u', 'a', 's', 'h', ' ', 'P', 'a', 'n', 'z', 'a', 'n', 'e', 'l', 'l', 'a', '<EOS>']\n",
      "['<SOS>', 'C', 'r', 'i', 's', 'p', 'y', ' ', 'S', 'a', 'l', 't', ' ', 'a', 'n', 'd', ' ', 'P', 'e', 'p', 'p', 'e', 'r', ' ', 'P', 'o', 't', 'a', 't', 'o', 'e', 's', '<EOS>']\n",
      "['<SOS>', 'T', 'h', 'a', 'n', 'k', 's', 'g', 'i', 'v', 'i', 'n', 'g', ' ', 'M', 'a', 'c', ' ', 'a', 'n', 'd', ' ', 'C', 'h', 'e', 'e', 's', 'e', '<EOS>']\n",
      "['<SOS>', 'I', 't', 'a', 'l', 'i', 'a', 'n', ' ', 'S', 'a', 'u', 's', 'a', 'g', 'e', ' ', 'a', 'n', 'd', ' ', 'B', 'r', 'e', 'a', 'd', ' ', 'S', 't', 'u', 'f', 'f', 'i', 'n', 'g', '<EOS>']\n",
      "['<SOS>', 'N', 'e', 'w', 't', 'o', 'n', \"'\", 's', ' ', 'L', 'a', 'w', '<EOS>']\n"
     ]
    }
   ],
   "source": [
    "# Define a class for special tokens. These tokens have special meanings in the context of sequence-to-sequence models.\n",
    "class SpecialTokens:\n",
    "    PAD = '<PAD>'  # Padding token. Used to fill in sequences to make them all the same length.\n",
    "    SOS = '<SOS>'  # Start-of-sequence token. Indicates the start of a sequence.\n",
    "    EOS = '<EOS>'  # End-of-sequence token. Indicates the end of a sequence.\n",
    "    UNK = '<UNK>'  # Unknown token. Used to represent characters not in the vocabulary.\n",
    "    Tokens = [PAD, SOS, EOS, UNK]  # List of all special tokens.\n",
    "\n",
    "# Extend the vocabulary with the special tokens.\n",
    "vocab = SpecialTokens.Tokens + list(chars)\n",
    "\n",
    "# Print the vocabulary, which now includes the special tokens.\n",
    "print(\"Vocabulary:\")\n",
    "print(vocab, '\\n')\n",
    "\n",
    "# Add the start-of-sequence and end-of-sequence tokens to each title. \n",
    "# Each title is now a list that starts with the SOS token, ends with the EOS token, and has the original characters in between.\n",
    "titles_split_with_special_tokens = [[SpecialTokens.SOS] + title + [SpecialTokens.EOS] for title in titles_split]\n",
    "\n",
    "\n",
    "print(\"Titles split with special tokens: \")\n",
    "# Print the first 5 titles, which now include the special tokens.\n",
    "for title in titles_split_with_special_tokens[:5]:\n",
    "    print(title)"
   ]
  },
  {
   "cell_type": "markdown",
   "metadata": {},
   "source": [
    "<h3> Create a dictionary to map characters to integers and vice versa</h3>"
   ]
  },
  {
   "cell_type": "code",
   "execution_count": 85,
   "metadata": {},
   "outputs": [
    {
     "name": "stdout",
     "output_type": "stream",
     "text": [
      "torch.Size([13305, 114])\n",
      "tensor([ 1, 42, 64, 74, 70, 16, 31, 76, 75, 75, 60, 73,  5, 47, 70, 56, 74, 75,\n",
      "         5, 32, 63, 64, 58, 66, 60, 69,  5, 52, 64, 75, 63,  5, 30, 58, 70, 73,\n",
      "        69,  5, 48, 72, 76, 56, 74, 63,  5, 45, 56, 69, 81, 56, 69, 60, 67, 67,\n",
      "        56,  2,  0,  0,  0,  0,  0,  0,  0,  0,  0,  0,  0,  0,  0,  0,  0,  0,\n",
      "         0,  0,  0,  0,  0,  0,  0,  0,  0,  0,  0,  0,  0,  0,  0,  0,  0,  0,\n",
      "         0,  0,  0,  0,  0,  0,  0,  0,  0,  0,  0,  0,  0,  0,  0,  0,  0,  0,\n",
      "         0,  0,  0,  0,  0,  0])\n",
      "tensor([ 1, 32, 73, 64, 74, 71, 80,  5, 48, 56, 67, 75,  5, 56, 69, 59,  5, 45,\n",
      "        60, 71, 71, 60, 73,  5, 45, 70, 75, 56, 75, 70, 60, 74,  2,  0,  0,  0,\n",
      "         0,  0,  0,  0,  0,  0,  0,  0,  0,  0,  0,  0,  0,  0,  0,  0,  0,  0,\n",
      "         0,  0,  0,  0,  0,  0,  0,  0,  0,  0,  0,  0,  0,  0,  0,  0,  0,  0,\n",
      "         0,  0,  0,  0,  0,  0,  0,  0,  0,  0,  0,  0,  0,  0,  0,  0,  0,  0,\n",
      "         0,  0,  0,  0,  0,  0,  0,  0,  0,  0,  0,  0,  0,  0,  0,  0,  0,  0,\n",
      "         0,  0,  0,  0,  0,  0])\n",
      "tensor([ 1, 49, 63, 56, 69, 66, 74, 62, 64, 77, 64, 69, 62,  5, 42, 56, 58,  5,\n",
      "        56, 69, 59,  5, 32, 63, 60, 60, 74, 60,  2,  0,  0,  0,  0,  0,  0,  0,\n",
      "         0,  0,  0,  0,  0,  0,  0,  0,  0,  0,  0,  0,  0,  0,  0,  0,  0,  0,\n",
      "         0,  0,  0,  0,  0,  0,  0,  0,  0,  0,  0,  0,  0,  0,  0,  0,  0,  0,\n",
      "         0,  0,  0,  0,  0,  0,  0,  0,  0,  0,  0,  0,  0,  0,  0,  0,  0,  0,\n",
      "         0,  0,  0,  0,  0,  0,  0,  0,  0,  0,  0,  0,  0,  0,  0,  0,  0,  0,\n",
      "         0,  0,  0,  0,  0,  0])\n",
      "tensor([ 1, 38, 75, 56, 67, 64, 56, 69,  5, 48, 56, 76, 74, 56, 62, 60,  5, 56,\n",
      "        69, 59,  5, 31, 73, 60, 56, 59,  5, 48, 75, 76, 61, 61, 64, 69, 62,  2,\n",
      "         0,  0,  0,  0,  0,  0,  0,  0,  0,  0,  0,  0,  0,  0,  0,  0,  0,  0,\n",
      "         0,  0,  0,  0,  0,  0,  0,  0,  0,  0,  0,  0,  0,  0,  0,  0,  0,  0,\n",
      "         0,  0,  0,  0,  0,  0,  0,  0,  0,  0,  0,  0,  0,  0,  0,  0,  0,  0,\n",
      "         0,  0,  0,  0,  0,  0,  0,  0,  0,  0,  0,  0,  0,  0,  0,  0,  0,  0,\n",
      "         0,  0,  0,  0,  0,  0])\n",
      "tensor([ 1, 43, 60, 78, 75, 70, 69, 11, 74,  5, 41, 56, 78,  2,  0,  0,  0,  0,\n",
      "         0,  0,  0,  0,  0,  0,  0,  0,  0,  0,  0,  0,  0,  0,  0,  0,  0,  0,\n",
      "         0,  0,  0,  0,  0,  0,  0,  0,  0,  0,  0,  0,  0,  0,  0,  0,  0,  0,\n",
      "         0,  0,  0,  0,  0,  0,  0,  0,  0,  0,  0,  0,  0,  0,  0,  0,  0,  0,\n",
      "         0,  0,  0,  0,  0,  0,  0,  0,  0,  0,  0,  0,  0,  0,  0,  0,  0,  0,\n",
      "         0,  0,  0,  0,  0,  0,  0,  0,  0,  0,  0,  0,  0,  0,  0,  0,  0,  0,\n",
      "         0,  0,  0,  0,  0,  0])\n"
     ]
    },
    {
     "name": "stderr",
     "output_type": "stream",
     "text": [
      "C:\\Users\\aidan_000\\AppData\\Local\\Temp\\ipykernel_7356\\1093977298.py:14: UserWarning: To copy construct from a tensor, it is recommended to use sourceTensor.clone().detach() or sourceTensor.clone().detach().requires_grad_(True), rather than torch.tensor(sourceTensor).\n",
      "  titles_ints_tensor = torch.tensor(titles_ints_padded, dtype=torch.long)\n"
     ]
    }
   ],
   "source": [
    "# Create a dictionary that maps each character in the vocabulary to a unique integer index\n",
    "char_to_idx = {char: idx for idx, char in enumerate(vocab)}\n",
    "\n",
    "# Create a dictionary that maps each unique integer index to the corresponding character in the vocabulary\n",
    "idx_to_char = {idx: char for char, idx in char_to_idx.items()}\n",
    "\n",
    "# Convert each title into a sequence of integer indices. If a character is not in the vocabulary, use the index of the special UNK (unknown) token\n",
    "titles_ints = [[char_to_idx.get(char, char_to_idx[SpecialTokens.UNK]) for char in title] for title in titles_split_with_special_tokens]\n",
    "\n",
    "# Pad each sequence of integer indices to the same length, using the index of the special PAD (padding) token for padding. Convert each sequence to a PyTorch tensor of type long\n",
    "titles_ints_padded = pad_sequence([torch.tensor(title, dtype=torch.long) for title in titles_ints], batch_first=True, padding_value=char_to_idx[SpecialTokens.PAD])\n",
    "\n",
    "# Convert the list of padded sequences into a 2D PyTorch tensor (optional)\n",
    "titles_ints_tensor = torch.tensor(titles_ints_padded, dtype=torch.long)\n",
    "\n",
    "# Print the shape of the titles_ints tensor. This should be (n, m), where n is the number of titles and m is the length of the longest title\n",
    "print(titles_ints_tensor.shape)\n",
    "\n",
    "# Print the first 5 sequences of integer indices\n",
    "for title in titles_ints_tensor[:5]:\n",
    "    print(title)"
   ]
  },
  {
   "cell_type": "markdown",
   "metadata": {},
   "source": [
    "<h3>Convert text to indices</h3>"
   ]
  },
  {
   "cell_type": "code",
   "execution_count": 86,
   "metadata": {},
   "outputs": [
    {
     "name": "stdout",
     "output_type": "stream",
     "text": [
      "<SOS>Miso-Butter Roast Chicken With Acorn Squash Panzanella<EOS><PAD><PAD><PAD><PAD><PAD><PAD><PAD><PAD><PAD><PAD><PAD><PAD><PAD><PAD><PAD><PAD><PAD><PAD><PAD><PAD><PAD><PAD><PAD><PAD><PAD><PAD><PAD><PAD><PAD><PAD><PAD><PAD><PAD><PAD><PAD><PAD><PAD><PAD><PAD><PAD><PAD><PAD><PAD><PAD><PAD><PAD><PAD><PAD><PAD><PAD><PAD><PAD><PAD><PAD><PAD><PAD><PAD><PAD> \n",
      "\n",
      "<SOS>Crispy Salt and Pepper Potatoes<EOS><PAD><PAD><PAD><PAD><PAD><PAD><PAD><PAD><PAD><PAD><PAD><PAD><PAD><PAD><PAD><PAD><PAD><PAD><PAD><PAD><PAD><PAD><PAD><PAD><PAD><PAD><PAD><PAD><PAD><PAD><PAD><PAD><PAD><PAD><PAD><PAD><PAD><PAD><PAD><PAD><PAD><PAD><PAD><PAD><PAD><PAD><PAD><PAD><PAD><PAD><PAD><PAD><PAD><PAD><PAD><PAD><PAD><PAD><PAD><PAD><PAD><PAD><PAD><PAD><PAD><PAD><PAD><PAD><PAD><PAD><PAD><PAD><PAD><PAD><PAD><PAD><PAD><PAD><PAD><PAD><PAD> \n",
      "\n",
      "<SOS>Thanksgiving Mac and Cheese<EOS><PAD><PAD><PAD><PAD><PAD><PAD><PAD><PAD><PAD><PAD><PAD><PAD><PAD><PAD><PAD><PAD><PAD><PAD><PAD><PAD><PAD><PAD><PAD><PAD><PAD><PAD><PAD><PAD><PAD><PAD><PAD><PAD><PAD><PAD><PAD><PAD><PAD><PAD><PAD><PAD><PAD><PAD><PAD><PAD><PAD><PAD><PAD><PAD><PAD><PAD><PAD><PAD><PAD><PAD><PAD><PAD><PAD><PAD><PAD><PAD><PAD><PAD><PAD><PAD><PAD><PAD><PAD><PAD><PAD><PAD><PAD><PAD><PAD><PAD><PAD><PAD><PAD><PAD><PAD><PAD><PAD><PAD><PAD><PAD><PAD> \n",
      "\n",
      "<SOS>Italian Sausage and Bread Stuffing<EOS><PAD><PAD><PAD><PAD><PAD><PAD><PAD><PAD><PAD><PAD><PAD><PAD><PAD><PAD><PAD><PAD><PAD><PAD><PAD><PAD><PAD><PAD><PAD><PAD><PAD><PAD><PAD><PAD><PAD><PAD><PAD><PAD><PAD><PAD><PAD><PAD><PAD><PAD><PAD><PAD><PAD><PAD><PAD><PAD><PAD><PAD><PAD><PAD><PAD><PAD><PAD><PAD><PAD><PAD><PAD><PAD><PAD><PAD><PAD><PAD><PAD><PAD><PAD><PAD><PAD><PAD><PAD><PAD><PAD><PAD><PAD><PAD><PAD><PAD><PAD><PAD><PAD><PAD> \n",
      "\n",
      "<SOS>Newton's Law<EOS><PAD><PAD><PAD><PAD><PAD><PAD><PAD><PAD><PAD><PAD><PAD><PAD><PAD><PAD><PAD><PAD><PAD><PAD><PAD><PAD><PAD><PAD><PAD><PAD><PAD><PAD><PAD><PAD><PAD><PAD><PAD><PAD><PAD><PAD><PAD><PAD><PAD><PAD><PAD><PAD><PAD><PAD><PAD><PAD><PAD><PAD><PAD><PAD><PAD><PAD><PAD><PAD><PAD><PAD><PAD><PAD><PAD><PAD><PAD><PAD><PAD><PAD><PAD><PAD><PAD><PAD><PAD><PAD><PAD><PAD><PAD><PAD><PAD><PAD><PAD><PAD><PAD><PAD><PAD><PAD><PAD><PAD><PAD><PAD><PAD><PAD><PAD><PAD><PAD><PAD><PAD><PAD><PAD><PAD><PAD><PAD><PAD><PAD><PAD><PAD> \n",
      "\n"
     ]
    }
   ],
   "source": [
    "# Define a function to convert sequences of integer indices back to text\n",
    "def text_from_ids(ids, idx_to_char):\n",
    "    # For each sequence of indices, map each index to its corresponding character using the 'idx_to_char' dictionary\n",
    "    # Join the characters together to form a string, and add this string to a list\n",
    "    # Return the list of strings\n",
    "    return [''.join(idx_to_char[idx.item()] for idx in seq) for seq in ids]\n",
    "\n",
    "# Use the 'text_from_ids' function to convert the 'titles_ints_tensor' tensor back to text\n",
    "# The 'idx_to_char' dictionary is used to map each index to its corresponding character\n",
    "titles_text = text_from_ids(titles_ints_tensor, idx_to_char)\n",
    "\n",
    "# Print the first 5 titles after conversion\n",
    "for title in titles_text[:5]:\n",
    "    print(title, '\\n')"
   ]
  },
  {
   "cell_type": "markdown",
   "metadata": {},
   "source": [
    "<h3>Create Train, Validation, and Test Dataset</h3>"
   ]
  },
  {
   "cell_type": "code",
   "execution_count": 87,
   "metadata": {},
   "outputs": [],
   "source": [
    "# Convert the 'titles_ints_tensor' tensor to a NumPy array and assign it to 'titles_ints_array'\n",
    "titles_ints_array = titles_ints_tensor.numpy()\n",
    "\n",
    "# Calculate the sizes of the train, validation, and test sets\n",
    "# The train set will contain 60% of the data, the validation set will contain 20%, and the test set will contain the remaining 20%\n",
    "train_size = int(0.6 * len(titles_ints_array))\n",
    "val_size = int(0.2 * len(titles_ints_array))\n",
    "test_size = len(titles_ints_array) - train_size - val_size\n",
    "\n",
    "# Use the 'random_split' function to split 'titles_ints_array' into a train set and a combined validation/test set\n",
    "train_ids, val_test_ids = random_split(titles_ints_array, [train_size, val_size + test_size])\n",
    "\n",
    "# Further split the combined validation/test set into separate validation and test sets\n",
    "val_ids, test_ids = random_split(val_test_ids, [val_size, test_size])"
   ]
  },
  {
   "cell_type": "code",
   "execution_count": 88,
   "metadata": {},
   "outputs": [
    {
     "name": "stdout",
     "output_type": "stream",
     "text": [
      "Number of training examples: 7983\n",
      "Number of validation examples: 2661\n",
      "Number of test examples: 2661\n",
      "\n",
      " ['<SOS>Leek and Asparagus Frittata<EOS><PAD><PAD><PAD><PAD><PAD><PAD><PAD><PAD><PAD><PAD><PAD><PAD><PAD><PAD><PAD><PAD><PAD><PAD><PAD><PAD><PAD><PAD><PAD><PAD><PAD><PAD><PAD><PAD><PAD><PAD><PAD><PAD><PAD><PAD><PAD><PAD><PAD><PAD><PAD><PAD><PAD><PAD><PAD><PAD><PAD><PAD><PAD><PAD><PAD><PAD><PAD><PAD><PAD><PAD><PAD><PAD><PAD><PAD><PAD><PAD><PAD><PAD><PAD><PAD><PAD><PAD><PAD><PAD><PAD><PAD><PAD><PAD><PAD><PAD><PAD><PAD><PAD><PAD><PAD><PAD><PAD><PAD><PAD><PAD><PAD>']\n",
      "\n",
      " ['<SOS>Chicken in Spicy Coconut Sauce<EOS><PAD><PAD><PAD><PAD><PAD><PAD><PAD><PAD><PAD><PAD><PAD><PAD><PAD><PAD><PAD><PAD><PAD><PAD><PAD><PAD><PAD><PAD><PAD><PAD><PAD><PAD><PAD><PAD><PAD><PAD><PAD><PAD><PAD><PAD><PAD><PAD><PAD><PAD><PAD><PAD><PAD><PAD><PAD><PAD><PAD><PAD><PAD><PAD><PAD><PAD><PAD><PAD><PAD><PAD><PAD><PAD><PAD><PAD><PAD><PAD><PAD><PAD><PAD><PAD><PAD><PAD><PAD><PAD><PAD><PAD><PAD><PAD><PAD><PAD><PAD><PAD><PAD><PAD><PAD><PAD><PAD><PAD>']\n",
      "\n",
      " ['<SOS>Spiced Glazed Carrots with Sherry & Citrus<EOS><PAD><PAD><PAD><PAD><PAD><PAD><PAD><PAD><PAD><PAD><PAD><PAD><PAD><PAD><PAD><PAD><PAD><PAD><PAD><PAD><PAD><PAD><PAD><PAD><PAD><PAD><PAD><PAD><PAD><PAD><PAD><PAD><PAD><PAD><PAD><PAD><PAD><PAD><PAD><PAD><PAD><PAD><PAD><PAD><PAD><PAD><PAD><PAD><PAD><PAD><PAD><PAD><PAD><PAD><PAD><PAD><PAD><PAD><PAD><PAD><PAD><PAD><PAD><PAD><PAD><PAD><PAD><PAD><PAD><PAD>']\n",
      "\n",
      " ['<SOS>Turmeric-Kale Fried Rice<EOS><PAD><PAD><PAD><PAD><PAD><PAD><PAD><PAD><PAD><PAD><PAD><PAD><PAD><PAD><PAD><PAD><PAD><PAD><PAD><PAD><PAD><PAD><PAD><PAD><PAD><PAD><PAD><PAD><PAD><PAD><PAD><PAD><PAD><PAD><PAD><PAD><PAD><PAD><PAD><PAD><PAD><PAD><PAD><PAD><PAD><PAD><PAD><PAD><PAD><PAD><PAD><PAD><PAD><PAD><PAD><PAD><PAD><PAD><PAD><PAD><PAD><PAD><PAD><PAD><PAD><PAD><PAD><PAD><PAD><PAD><PAD><PAD><PAD><PAD><PAD><PAD><PAD><PAD><PAD><PAD><PAD><PAD><PAD><PAD><PAD><PAD><PAD><PAD>']\n",
      "\n",
      " ['<SOS>Roasted White Chocolate Panna Cotta<EOS><PAD><PAD><PAD><PAD><PAD><PAD><PAD><PAD><PAD><PAD><PAD><PAD><PAD><PAD><PAD><PAD><PAD><PAD><PAD><PAD><PAD><PAD><PAD><PAD><PAD><PAD><PAD><PAD><PAD><PAD><PAD><PAD><PAD><PAD><PAD><PAD><PAD><PAD><PAD><PAD><PAD><PAD><PAD><PAD><PAD><PAD><PAD><PAD><PAD><PAD><PAD><PAD><PAD><PAD><PAD><PAD><PAD><PAD><PAD><PAD><PAD><PAD><PAD><PAD><PAD><PAD><PAD><PAD><PAD><PAD><PAD><PAD><PAD><PAD><PAD><PAD><PAD>']\n"
     ]
    }
   ],
   "source": [
    "# Convert the 'train_ids', 'val_ids', and 'test_ids' lists to NumPy arrays of 64-bit integers\n",
    "train_ids_array = np.array(train_ids, dtype=np.int64)\n",
    "val_ids_array = np.array(val_ids, dtype=np.int64)\n",
    "test_ids_array = np.array(test_ids, dtype=np.int64)\n",
    "\n",
    "# Create PyTorch TensorDataset objects from the NumPy arrays\n",
    "# TensorDataset is a utility that wraps tensors into a dataset\n",
    "train_ids_ds = TensorDataset(torch.from_numpy(train_ids_array))\n",
    "val_ids_ds = TensorDataset(torch.from_numpy(val_ids_array))\n",
    "test_ids_ds = TensorDataset(torch.from_numpy(test_ids_array))\n",
    "\n",
    "# Print the number of examples in the training, validation, and test sets\n",
    "print('Number of training examples:', len(train_ids_ds))\n",
    "print('Number of validation examples:', len(val_ids_ds))\n",
    "print('Number of test examples:', len(test_ids_ds))\n",
    "\n",
    "# Loop over the first 5 elements in the 'train_ids_array' array\n",
    "for ids in train_ids_array[:5]:\n",
    "    # Convert the scalar integer to a list containing a single integer\n",
    "    ids_list = [ids]\n",
    "    # Use the 'text_from_ids' function to convert the list of integer indices back to text\n",
    "    # The 'idx_to_char' dictionary is used to map each index to its corresponding character\n",
    "    print('\\n', text_from_ids(ids_list, idx_to_char))"
   ]
  },
  {
   "cell_type": "code",
   "execution_count": 89,
   "metadata": {},
   "outputs": [],
   "source": [
    "# Define a function to split a sequence into input and target sequences\n",
    "def split_input_target(sequence):\n",
    "    # The input sequence consists of all but the last character in the sequence\n",
    "    input_text = sequence[:-1]\n",
    "    # The target sequence consists of all but the first character in the sequence\n",
    "    target_text = sequence[1:]\n",
    "    # Return the input and target sequences\n",
    "    return input_text, target_text\n",
    "\n",
    "# Use a list comprehension to apply the 'split_input_target' function to each sequence in the training, validation, and test sets\n",
    "# This creates a pair of input-target sequences for each sequence\n",
    "train_ds = [(split_input_target(ids)) for ids, in train_ids_ds]\n",
    "val_ds = [(split_input_target(ids)) for ids, in val_ids_ds]\n",
    "test_ds = [(split_input_target(ids)) for ids, in test_ids_ds]"
   ]
  },
  {
   "cell_type": "code",
   "execution_count": 90,
   "metadata": {},
   "outputs": [
    {
     "name": "stdout",
     "output_type": "stream",
     "text": [
      "Number of training batches: 124\n",
      "Number of validation batches: 41\n",
      "Number of test batches: 41\n",
      "\n",
      "Input sequence shape: torch.Size([64, 113])\n"
     ]
    }
   ],
   "source": [
    "# Define the batch size, which is the number of examples to process in a single pass\n",
    "BATCH_SIZE = 32\n",
    "\n",
    "# Define the buffer size, which is the number of examples from which to randomly sample\n",
    "BUFFER_SIZE = 10000\n",
    "\n",
    "# Create a DataLoader for the training dataset\n",
    "# The DataLoader batches the data, shuffles it, and drops the last batch if it's not full\n",
    "train_loader = DataLoader(train_ds, batch_size=BATCH_SIZE, shuffle=True, drop_last=True)\n",
    "\n",
    "# Create a DataLoader for the validation dataset\n",
    "# The DataLoader batches the data, shuffles it, and drops the last batch if it's not full\n",
    "val_loader = DataLoader(val_ds, batch_size=BATCH_SIZE, shuffle=True, drop_last=True)\n",
    "\n",
    "# Create a DataLoader for the test dataset\n",
    "# The DataLoader batches the data, shuffles it, and drops the last batch if it's not full\n",
    "test_loader = DataLoader(test_ds, batch_size=BATCH_SIZE, shuffle=True, drop_last=True)\n",
    "\n",
    "# Print the number of batches in the training, validation, and test loaders\n",
    "print('Number of training batches:', len(train_loader))\n",
    "print('Number of validation batches:', len(val_loader))\n",
    "print('Number of test batches:', len(test_loader))\n",
    "\n",
    "# Print the shape of the first batch of input sequences in the training loader\n",
    "# The shape should be (batch_size, sequence_length)\n",
    "for input_seq, target_seq in train_loader:\n",
    "    print('\\nInput sequence shape:', input_seq.shape)\n",
    "    break"
   ]
  },
  {
   "cell_type": "markdown",
   "metadata": {},
   "source": [
    "<h2> RecipeGRU Architecture</h2>"
   ]
  },
  {
   "cell_type": "code",
   "execution_count": 91,
   "metadata": {},
   "outputs": [],
   "source": [
    "# Define a custom PyTorch module for a recurrent neural network (RNN) model\n",
    "class RecipeGRU(nn.Module):\n",
    "    # The constructor takes the vocabulary size, embedding dimension, and number of RNN units as arguments\n",
    "    def __init__(self, vocab_size, embedding_dim, rnn_units):\n",
    "        # Call the constructor of the parent class\n",
    "        super(RecipeGRU, self).__init__()\n",
    "        # Store the parameters\n",
    "        self.vocab_size = vocab_size\n",
    "        self.embedding_dim = embedding_dim\n",
    "        self.rnn_units = rnn_units\n",
    "        \n",
    "        # Define an embedding layer that maps words to vectors\n",
    "        self.embedding = nn.Embedding(vocab_size, embedding_dim)\n",
    "        # Define a GRU layer with the specified number of units\n",
    "        self.gru = nn.GRU(embedding_dim, rnn_units, batch_first=True)\n",
    "        # Define a dense (fully connected) layer that maps the RNN output to the vocabulary size\n",
    "        self.dense = nn.Linear(rnn_units, vocab_size)\n",
    "\n",
    "    # Define the forward pass of the model\n",
    "    def forward(self, inputs, state=None):\n",
    "        # Pass the inputs through the embedding layer\n",
    "        x = self.embedding(inputs)\n",
    "        # If no initial state is provided, initialize it\n",
    "        if state is None:\n",
    "            state = self.init_hidden(x.size(0))\n",
    "        # Pass the embeddings and the state through the GRU layer\n",
    "        x, state = self.gru(x, state)\n",
    "        # Pass the GRU output through the dense layer\n",
    "        x = self.dense(x)\n",
    "        # Return the dense layer output and the state\n",
    "        return x, state\n",
    "\n",
    "    # Define a method to initialize the hidden state of the GRU layer\n",
    "    def init_hidden(self, batch_size):\n",
    "        # The hidden state is a tensor of zeros with a size of (1, batch size, number of RNN units)\n",
    "        # It's placed on the same device as the model\n",
    "        return torch.zeros(1, batch_size, self.rnn_units, device=device)  # Assuming single layer GRU"
   ]
  },
  {
   "cell_type": "markdown",
   "metadata": {},
   "source": [
    "<h2> Hyperparameters </h2>"
   ]
  },
  {
   "cell_type": "code",
   "execution_count": 93,
   "metadata": {},
   "outputs": [
    {
     "name": "stdout",
     "output_type": "stream",
     "text": [
      "torch.Size([64, 113, 140]) # (batch_size, sequence_length, vocab_size)\n"
     ]
    }
   ],
   "source": [
    "# Define the size of the vocabulary, which is the number of unique characters in the text\n",
    "# This is used in the StringLookup layer, which converts strings to integer indices\n",
    "vocab_size = len(vocab)\n",
    "\n",
    "# Define the dimensionality of the embedding space\n",
    "# This is the size of the vector space in which words will be embedded\n",
    "# It defines the size of the output vectors from this layer for each word\n",
    "embedding_dim = 256\n",
    "\n",
    "# Define the number of recurrent units in the RNN layer\n",
    "# This is the dimensionality of the output space of the RNN layer\n",
    "rnn_units = 128\n",
    "\n",
    "# Instantiate the RecipeGRU model with the defined vocabulary size, embedding dimension, and number of RNN units\n",
    "# RecipeRNN is a custom model class that presumably implements a recurrent neural network for generating recipe names\n",
    "model = RecipeGRU(vocab_size, embedding_dim, rnn_units).to(device)\n",
    "# model = RecipeLSTM(vocab_size, embedding_dim, rnn_units).to(device)\n",
    "\n",
    "# Assuming `model` is your RecipeRNN instance and `train_loader` is your DataLoader\n",
    "for input_example_batch, target_example_batch in train_loader:\n",
    "    input_example_batch, target_example_batch = input_example_batch.to(device), target_example_batch.to(device)\n",
    "    example_batch_predictions, _ = model(input_example_batch)\n",
    "    print(example_batch_predictions.shape, \"# (batch_size, sequence_length, vocab_size)\")\n",
    "    break  # Only take predictions for the first batch"
   ]
  },
  {
   "cell_type": "code",
   "execution_count": 94,
   "metadata": {},
   "outputs": [],
   "source": [
    "# Define the loss function for the model\n",
    "# The loss function is the negative log-likelihood loss with logits\n",
    "# It is suitable for training a classification problem with multiple classes\n",
    "loss_fn = nn.CrossEntropyLoss(ignore_index=char_to_idx[SpecialTokens.PAD])\n",
    "\n",
    "# Define the optimizer for the model\n",
    "# The Adam optimizer is a popular optimizer that adapts the learning rate during training\n",
    "optimizer = torch.optim.Adam(model.parameters(), lr=0.001)\n",
    "\n",
    "# Define the number of epochs, which is the number of times the model will iterate over the entire training dataset\n",
    "EPOCHS = 20"
   ]
  },
  {
   "cell_type": "markdown",
   "metadata": {},
   "source": [
    "<h2>Training Loop</h2>"
   ]
  },
  {
   "cell_type": "code",
   "execution_count": 95,
   "metadata": {},
   "outputs": [
    {
     "name": "stdout",
     "output_type": "stream",
     "text": [
      "Epoch 1/20, Training Loss: 2.692, Validation Loss: 2.136\n",
      "Epoch 2/20, Training Loss: 1.978, Validation Loss: 1.827\n",
      "Epoch 3/20, Training Loss: 1.733, Validation Loss: 1.631\n",
      "Epoch 4/20, Training Loss: 1.573, Validation Loss: 1.509\n",
      "Epoch 5/20, Training Loss: 1.469, Validation Loss: 1.426\n",
      "Epoch 6/20, Training Loss: 1.394, Validation Loss: 1.367\n",
      "Epoch 7/20, Training Loss: 1.341, Validation Loss: 1.324\n",
      "Epoch 8/20, Training Loss: 1.299, Validation Loss: 1.294\n",
      "Epoch 9/20, Training Loss: 1.266, Validation Loss: 1.265\n",
      "Epoch 10/20, Training Loss: 1.240, Validation Loss: 1.251\n",
      "Epoch 11/20, Training Loss: 1.214, Validation Loss: 1.229\n",
      "Epoch 12/20, Training Loss: 1.194, Validation Loss: 1.212\n",
      "Epoch 13/20, Training Loss: 1.176, Validation Loss: 1.199\n",
      "Epoch 14/20, Training Loss: 1.160, Validation Loss: 1.190\n",
      "Epoch 15/20, Training Loss: 1.146, Validation Loss: 1.182\n",
      "Epoch 16/20, Training Loss: 1.133, Validation Loss: 1.173\n",
      "Epoch 17/20, Training Loss: 1.121, Validation Loss: 1.167\n",
      "Epoch 18/20, Training Loss: 1.110, Validation Loss: 1.159\n",
      "Epoch 19/20, Training Loss: 1.101, Validation Loss: 1.152\n",
      "Epoch 20/20, Training Loss: 1.091, Validation Loss: 1.150\n"
     ]
    }
   ],
   "source": [
    "# Initialize lists to store the training and validation losses\n",
    "train_losses = []\n",
    "val_losses = []\n",
    "\n",
    "# Start the training loop\n",
    "for epoch in range(EPOCHS):\n",
    "    # Set the model to training mode\n",
    "    model.train()\n",
    "    \n",
    "    # Initialize a variable to accumulate the training loss\n",
    "    running_loss = 0.0\n",
    "    \n",
    "    # Iterate over the batches in the training data loader\n",
    "    for input_batch, target_batch in train_loader:\n",
    "        # Move the input and target batches to the GPU\n",
    "        input_batch, target_batch = input_batch.to(device), target_batch.to(device)\n",
    "\n",
    "        # Zero the gradients\n",
    "        optimizer.zero_grad()\n",
    "        \n",
    "        # Perform a forward pass through the model\n",
    "        predictions, _ = model(input_batch)\n",
    "        \n",
    "        # Compute the loss\n",
    "        loss = loss_fn(predictions.transpose(1, 2), target_batch)\n",
    "        \n",
    "        # Perform a backward pass to compute gradients\n",
    "        loss.backward()\n",
    "        \n",
    "        # Update the model parameters\n",
    "        optimizer.step()\n",
    "        \n",
    "        # Accumulate the training loss\n",
    "        running_loss += loss.item()\n",
    "        \n",
    "    # Compute the average training loss for the epoch\n",
    "    train_loss = running_loss / len(train_loader)\n",
    "    train_losses.append(train_loss)\n",
    "    \n",
    "    # Switch the model to evaluation mode for validation\n",
    "    model.eval()\n",
    "    \n",
    "    # Initialize a variable to accumulate the validation loss\n",
    "    running_loss = 0.0\n",
    "    \n",
    "    # Iterate over the batches in the validation data loader\n",
    "    for input_batch, target_batch in val_loader:\n",
    "        # Move the input and target batches to the GPU\n",
    "        input_batch, target_batch = input_batch.to(device), target_batch.to(device)\n",
    "        \n",
    "        # Perform a forward pass through the model\n",
    "        predictions, _ = model(input_batch)\n",
    "        \n",
    "        # Compute the loss\n",
    "        loss = loss_fn(predictions.transpose(1, 2), target_batch)\n",
    "        \n",
    "        # Accumulate the validation loss\n",
    "        running_loss += loss.item()\n",
    "\n",
    "    # Compute the average validation loss for the epoch\n",
    "    val_loss = running_loss / len(val_loader)\n",
    "    val_losses.append(val_loss)\n",
    "\n",
    "    # Print the training and validation losses for this epoch\n",
    "    print(f\"Epoch {epoch+1}/{EPOCHS}, Training Loss: {format(train_loss, '.3f')}, Validation Loss: {format(val_loss, '.3f')}\")"
   ]
  },
  {
   "cell_type": "code",
   "execution_count": 96,
   "metadata": {},
   "outputs": [],
   "source": [
    "# Save the model checkpoint\n",
    "# torch.save(model.state_dict(), 'RecipeGRU.pth')"
   ]
  },
  {
   "cell_type": "markdown",
   "metadata": {},
   "source": [
    "<h2>Training and Validation Loss Plots</h2>"
   ]
  },
  {
   "cell_type": "code",
   "execution_count": 97,
   "metadata": {},
   "outputs": [
    {
     "data": {
      "image/png": "[encoded data removed]",
      "text/plain": [
       "<Figure size 640x480 with 1 Axes>"
      ]
     },
     "metadata": {},
     "output_type": "display_data"
    }
   ],
   "source": [
    "# Plotting the training and validation loss curves\n",
    "plt.plot(range(1, EPOCHS+1), train_losses, label='Training Loss')\n",
    "plt.plot(range(1, EPOCHS+1), val_losses, label='Validation Loss')\n",
    "plt.xlabel('Epoch')\n",
    "plt.ylabel('Loss')\n",
    "plt.title('Training and Validation Loss Curves')\n",
    "plt.legend()\n",
    "plt.grid(True)\n",
    "plt.show()"
   ]
  },
  {
   "cell_type": "markdown",
   "metadata": {},
   "source": [
    "<h2>Recipe Generator</h2>"
   ]
  },
  {
   "cell_type": "code",
   "execution_count": 98,
   "metadata": {},
   "outputs": [],
   "source": [
    "# Define a class for generating recipe titles\n",
    "class RecipeTitleGenerator:\n",
    "    # The constructor takes a model, mappings from indices to characters and vice versa, and a temperature\n",
    "    def __init__(self, model, idx_to_char, char_to_idx, temperature=1.0):\n",
    "        # Store the parameters\n",
    "        self.temperature = temperature\n",
    "        self.model = model.to(device)  # Move the model to the device\n",
    "        self.idx_to_char = idx_to_char\n",
    "        self.char_to_idx = char_to_idx\n",
    "        self.start_token_idx = char_to_idx['<SOS>']  # Start of sequence token\n",
    "        self.end_token_idx = char_to_idx['<EOS>']  # End of sequence token\n",
    "        self.device = device  # Device to use for computation (CPU or GPU)\n",
    "        # Move end_token_idx to the device\n",
    "        self.end_token_idx = torch.tensor(self.end_token_idx, dtype=torch.long).to(device)\n",
    "\n",
    "    # Define a method to generate one step of the sequence\n",
    "    def generate_one_step(self, input_ids, state=None):\n",
    "        # Ensure that gradients are not computed\n",
    "        with torch.no_grad():\n",
    "            # Move the input IDs to the device\n",
    "            input_ids = input_ids.to(self.device)\n",
    "            # Perform a forward pass through the model\n",
    "            logits, state = self.model(input_ids, state)\n",
    "            # Scale the logits by the temperature and apply a softmax to get probabilities\n",
    "            logits = logits[:, -1, :] / self.temperature\n",
    "            logits = F.log_softmax(logits, dim=-1)\n",
    "            # Sample from the probabilities to get the predicted ID\n",
    "            predicted_id = torch.multinomial(logits.exp(), num_samples=1)\n",
    "        # Return the predicted ID and the state\n",
    "        return predicted_id, state\n",
    "\n",
    "    # Define a method to generate a sequence\n",
    "    def generate(self, prompt=None, max_tokens=200, prepend_start_token=True, repeats=1):\n",
    "        # Initialize the next ID and the state\n",
    "        next_id = None\n",
    "        state = None\n",
    "\n",
    "        # If the start token should be prepended, generate one step with the start token as input\n",
    "        if prepend_start_token:\n",
    "            next_id = torch.tensor([[self.start_token_idx]], dtype=torch.long, device=self.device)\n",
    "            next_id, state = self.generate_one_step(next_id, state)\n",
    "\n",
    "        # If a prompt is provided, convert it to IDs and use it as the next ID\n",
    "        if prompt is not None:\n",
    "            prompt_ids = [self.char_to_idx[char] for char in prompt]\n",
    "            prompt_tensor = torch.tensor(prompt_ids, dtype=torch.long, device=self.device).unsqueeze(0).repeat(repeats, 1)\n",
    "            next_id = prompt_tensor\n",
    "\n",
    "        # Initialize a list to store the result IDs\n",
    "        result_ids = [next_id]\n",
    "\n",
    "        # Initialize a tensor to track which sequences are done\n",
    "        done = torch.zeros_like(next_id, dtype=torch.bool, device=self.device)\n",
    "        # Generate up to max_tokens steps\n",
    "        for _ in range(max_tokens):\n",
    "            # Generate one step\n",
    "            next_id, state = self.generate_one_step(next_id, state)\n",
    "            # Add the predicted ID to the result IDs\n",
    "            result_ids.append(next_id)\n",
    "            # Update the done tensor\n",
    "            done |= (next_id == self.end_token_idx.to(self.device))  # Move self.end_token_idx to the same device as next_id\n",
    "            # If all sequences are done, break the loop\n",
    "            if done.all():\n",
    "                break\n",
    "\n",
    "        # Concatenate the result IDs into a tensor\n",
    "        result_ids = torch.cat(result_ids, dim=-1)\n",
    "        # Convert the result IDs to strings\n",
    "        result = [\"\".join([self.idx_to_char[idx.item()] for idx in seq]) for seq in result_ids]\n",
    "        # Return the result as a list\n",
    "        return result"
   ]
  },
  {
   "cell_type": "markdown",
   "metadata": {},
   "source": [
    "<h3>Generate Recipe without a prompt</h3>"
   ]
  },
  {
   "cell_type": "code",
   "execution_count": 99,
   "metadata": {},
   "outputs": [
    {
     "name": "stdout",
     "output_type": "stream",
     "text": [
      "Generated Recipe Title: Chile-Ginger Shortbread\n",
      "Run time: 0.02 seconds\n"
     ]
    }
   ],
   "source": [
    "# Use the RecipeTitleGenerator with the trained model, character mappings, and a temperature of 0.4 to generate recipe titles.\n",
    "# The 'prompt' is set to None, meaning the generator will start from scratch.\n",
    "# 'max_tokens' is set to 100, limiting the length of the generated titles.\n",
    "# 'prepend_start_token' is set to True, meaning the generator will prepend the start token to the generated sequence.\n",
    "# 'repeats' is not specified, meaning the generator will generate a single title.\n",
    "RecipeNameGenerator = RecipeTitleGenerator(model, idx_to_char, char_to_idx, temperature=0.4)\n",
    "\n",
    "# Start the timer\n",
    "start_time = time.time()\n",
    "\n",
    "# Generate random recipe title using the RecipeNameGenerator\n",
    "random_generated_title = RecipeNameGenerator.generate(prompt=None, max_tokens=100)\n",
    "\n",
    "# End the timer\n",
    "end_time = time.time()\n",
    "\n",
    "# Print the generated recipe title with the start token and end token removed  \n",
    "print('Generated Recipe Title:', ''.join(title.replace('<EOS>', '') for title in random_generated_title))\n",
    "print(f'Run time: {end_time - start_time:.2f} seconds')"
   ]
  },
  {
   "cell_type": "markdown",
   "metadata": {},
   "source": [
    "<h3>Generate Recipe with a prompt</h3>"
   ]
  },
  {
   "cell_type": "code",
   "execution_count": 100,
   "metadata": {},
   "outputs": [
    {
     "name": "stdout",
     "output_type": "stream",
     "text": [
      "Generated Recipe Title: Polenta with Chicken Tart\n",
      "Run time: 0.01 seconds\n"
     ]
    }
   ],
   "source": [
    "# Start the timer\n",
    "start_time = time.time()\n",
    "\n",
    "# Define the prompt\n",
    "prompt = 'Polenta with'\n",
    "\n",
    "# Convert the prompt to a tensor\n",
    "prompt_tensor = torch.tensor([char_to_idx[char] for char in prompt], dtype=torch.long).unsqueeze(0)\n",
    "\n",
    "# Generate recipe title using prompt\n",
    "prompted_generated_title = RecipeNameGenerator.generate(prompt=prompt, max_tokens=100)\n",
    "# End the timer\n",
    "end_time = time.time()\n",
    "\n",
    "# Print the generated recipe title and the run time\n",
    "print('Generated Recipe Title:', ''.join(title.replace('<EOS>', '') for title in prompted_generated_title))\n",
    "print(f'Run time: {end_time - start_time:.2f} seconds')"
   ]
  },
  {
   "cell_type": "markdown",
   "metadata": {},
   "source": [
    "<h2>Qualitative RecipeGRU Evaluation based on Test Set</h2>\n",
    "\n",
    "<t> Generate Recipes and comparing generated recipe to reference recipe using BLEU scoring metric </t>"
   ]
  },
  {
   "cell_type": "code",
   "execution_count": 106,
   "metadata": {},
   "outputs": [
    {
     "name": "stdout",
     "output_type": "stream",
     "text": [
      "Number of reference titles: 2661\n"
     ]
    }
   ],
   "source": [
    "# Define the reference titles\n",
    "reference_titles = []\n",
    "\n",
    "# Loop over the training dataset\n",
    "for input_seq, target_seq in test_ds:\n",
    "    # Convert the target sequence to text\n",
    "    target_text = ''.join([idx_to_char[idx.item()] for idx in target_seq if idx != char_to_idx['<PAD>']])\n",
    "    # Append the target text to the reference titles list\n",
    "    reference_titles.append(target_text)\n",
    "\n",
    "# Remove the <SOS> and <EOS> tokens from the reference titles\n",
    "reference_titles = [title.replace('<SOS>', '').replace('<EOS>', '') for title in reference_titles]\n",
    "\n",
    "# Print the size of the reference titles\n",
    "print('Number of reference titles:', len(reference_titles))\n",
    "\n",
    "# Define the size of the subset to select\n",
    "subset_size = len(reference_titles) # Set to the number of reference titles\n",
    "\n",
    "# Select a random subset of the reference titles\n",
    "reference_titles_subset = random.sample(reference_titles, subset_size)\n",
    "\n",
    "# print(\"Number of reference titles in subset:\", len(reference_titles_subset))"
   ]
  },
  {
   "cell_type": "code",
   "execution_count": 102,
   "metadata": {},
   "outputs": [
    {
     "name": "stdout",
     "output_type": "stream",
     "text": [
      "Average BLEU Score for Prompted Titles: 0.3264223830705245\n",
      "\n",
      "Highest BLEU Score for Prompted Titles: 0.8047418499398723\n",
      "Lowest BLEU Score for Prompted Titles: 0.008839374326825921\n"
     ]
    }
   ],
   "source": [
    "# Initialize lists to store BLEU scores\n",
    "bleu_scores_prompted = []\n",
    "\n",
    "# Initialize lists to store generated titles\n",
    "prompted_generated_titles = []\n",
    "\n",
    "# Start the timer\n",
    "start_time = time.time()\n",
    "\n",
    "# Loop over the reference titles\n",
    "for reference_title in reference_titles_subset:\n",
    "    # Define the prompt (first half of the reference title)\n",
    "    prompt = reference_title[:len(reference_title)//3]\n",
    "\n",
    "    # Generate recipe title using prompt\n",
    "    prompted_generated_title = RecipeNameGenerator.generate(prompt=prompt, max_tokens=100)\n",
    "\n",
    "    # Remove the <SOS> and <EOS> tokens from the prompted generated title\n",
    "    prompted_generated_title = [title.replace('<SOS>', '').replace('<EOS>', '') for title in prompted_generated_title]\n",
    "    prompted_generated_titles.append(prompted_generated_title)\n",
    "\n",
    "    # Calculate the portion of the reference title that was not used as the prompt\n",
    "    # unseen_portion = reference_title[:len(reference_title)]\n",
    "\n",
    "    # Compute BLEU score for the prompted generated title based on the unseen portion of the reference title\n",
    "    bleu_score_prompted = sentence_bleu([reference_title], prompted_generated_title[0], smoothing_function=SmoothingFunction().method1)\n",
    "    bleu_scores_prompted.append(bleu_score_prompted)\n",
    "\n",
    "# End the timer\n",
    "end_time = time.time()\n",
    "\n",
    "# Sanity check, ensure that the number of reference titles and BLEU scores are the same\n",
    "assert len(reference_titles_subset) == len(bleu_scores_prompted)\n",
    "\n",
    "# Calculate the average BLEU scores\n",
    "average_bleu_score_prompted = sum(bleu_scores_prompted) / len(bleu_scores_prompted)\n",
    "\n",
    "# Print the average BLEU scores\n",
    "print(\"Average BLEU Score for Prompted Titles:\", average_bleu_score_prompted)\n",
    "\n",
    "# Print the highest and lowest BLEU scores for prompted titles\n",
    "print(\"\\nHighest BLEU Score for Prompted Titles:\", max(bleu_scores_prompted))\n",
    "print(\"Lowest  BLEU Score for Prompted Titles:\", min(bleu_scores_prompted))\n"
   ]
  },
  {
   "cell_type": "code",
   "execution_count": 103,
   "metadata": {},
   "outputs": [
    {
     "name": "stdout",
     "output_type": "stream",
     "text": [
      "Reference Title: Potato Ghosts\n",
      "Prompted Generated Title: Potato and Carrots and Chicken Bars\n",
      "BLEU Score for Prompted Title: 0.19121616355935117\n",
      "-------------------------------------------------- \n",
      "\n",
      "Reference Title: Pork Marbella\n",
      "Prompted Generated Title: Pork Chops with Caramel Sauce\n",
      "BLEU Score for Prompted Title: 0.1585266710543935\n",
      "-------------------------------------------------- \n",
      "\n",
      "Reference Title: Flourless Chocolate Cake with Toasted Hazelnuts and Brandied Cherries\n",
      "Prompted Generated Title: Flourless Chocolate Cake\n",
      "BLEU Score for Prompted Title: 0.15335496684492847\n",
      "-------------------------------------------------- \n",
      "\n",
      "Reference Title: Fennel Gratin with Walnut-Thyme Breadcrumbs\n",
      "Prompted Generated Title: Fennel Gratin with Caramelized Onions\n",
      "BLEU Score for Prompted Title: 0.4755235294225429\n",
      "-------------------------------------------------- \n",
      "\n",
      "Reference Title: Thai Chicken-Coconut Soup\n",
      "Prompted Generated Title: Thai Chicken Salad with Chive and Thighs and Sausage\n",
      "BLEU Score for Prompted Title: 0.23387788841626778\n",
      "-------------------------------------------------- \n",
      "\n"
     ]
    }
   ],
   "source": [
    "# Initialize a list to store pairs of reference titles, generated titles, and BLEU scores\n",
    "title_score_pairs = []\n",
    "\n",
    "# Loop over the reference titles, generated titles, and BLEU scores simultaneously\n",
    "for reference_title, prompted_generated_title, bleu_score_prompted in zip(reference_titles_subset, prompted_generated_titles, bleu_scores_prompted):\n",
    "    # Append the tuple (reference title, prompted generated title, BLEU score for prompted title) to the list\n",
    "    title_score_pairs.append((reference_title, prompted_generated_title, bleu_score_prompted))\n",
    "\n",
    "# Print each pair of reference title, generated title, and BLEU scores\n",
    "for reference_title, prompted_generated_title, bleu_score_prompted in title_score_pairs[:5]:\n",
    "    print(\"Reference Title:\", reference_title)\n",
    "    print(\"Prompted Generated Title:\", ''.join(title.replace('<EOS>', '') for title in prompted_generated_title))\n",
    "    print(\"BLEU Score for Prompted Title:\", bleu_score_prompted)\n",
    "    print(\"-\" * 50, '\\n')"
   ]
  },
  {
   "cell_type": "code",
   "execution_count": 104,
   "metadata": {},
   "outputs": [
    {
     "name": "stdout",
     "output_type": "stream",
     "text": [
      "Generator was fed: Peking-S\n",
      "\n",
      "Reference Title: Peking-Style Chicken Wraps\n",
      "Generated Title Peking-Style Chicken Salad\n",
      "BLEU Score: 0.8047418499398723\n"
     ]
    }
   ],
   "source": [
    "# Find the index of the prompted generated title with the highest BLEU score\n",
    "index_highest_bleu = bleu_scores_prompted.index(max(bleu_scores_prompted))\n",
    "\n",
    "# Get the prompted generated title with the highest BLEU score\n",
    "highest_bleu_prompted_title = prompted_generated_titles[index_highest_bleu]\n",
    "\n",
    "# Get the reference title corresponding to the prompt generated title with the highest BLEU score\n",
    "reference_title_highest_bleu_random = reference_titles_subset[index_highest_bleu]\n",
    "\n",
    "print(\"Generator was fed:\", reference_title_highest_bleu_random[:len(reference_title_highest_bleu_random)//3])\n",
    "\n",
    "# Print the reference title and the prompt generated title with the highest BLEU score\n",
    "print(\"\\nReference Title:\", reference_title_highest_bleu_random)\n",
    "print(\"Generated Title:\", ''.join(title.replace('<EOS>', '') for title in highest_bleu_prompted_title))\n",
    "print(\"BLEU Score:\", max(bleu_scores_prompted))"
   ]
  },
  {
   "cell_type": "code",
   "execution_count": 105,
   "metadata": {},
   "outputs": [
    {
     "data": {
      "image/png": "[encoded data removed]",
      "text/plain": [
       "<Figure size 1000x600 with 1 Axes>"
      ]
     },
     "metadata": {},
     "output_type": "display_data"
    }
   ],
   "source": [
    "# Assuming `bleu_scores_random` is a list of your BLEU scores\n",
    "bleu_scores = [score for score in bleu_scores_prompted]\n",
    "\n",
    "# Create a histogram of the BLEU scores\n",
    "plt.figure(figsize=(10, 6))\n",
    "plt.hist(bleu_scores, bins=20, color='skyblue', edgecolor='black')\n",
    "plt.title('Histogram of BLEU Scores for Generated Recipe Titles')\n",
    "plt.xlabel('BLEU Score')\n",
    "plt.ylabel('Frequency')\n",
    "plt.grid(True)\n",
    "plt.show()"
   ]
  }
 ],
 "metadata": {
  "kernelspec": {
   "display_name": "Pytorch_env",
   "language": "python",
   "name": "python3"
  },
  "language_info": {
   "codemirror_mode": {
    "name": "ipython",
    "version": 3
   },
   "file_extension": ".py",
   "mimetype": "text/x-python",
   "name": "python",
   "nbconvert_exporter": "python",
   "pygments_lexer": "ipython3",
   "version": "3.11.5"
  }
 },
 "nbformat": 4,
 "nbformat_minor": 2
}
